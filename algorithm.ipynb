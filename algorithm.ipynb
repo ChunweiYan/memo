{
 "cells": [
  {
   "cell_type": "markdown",
   "metadata": {},
   "source": [
    "# UnionFind"
   ]
  },
  {
   "cell_type": "markdown",
   "metadata": {},
   "source": [
    "- https://leetcode.com/problems/surrounded-regions/description/\n",
    "  - Union Find\n",
    "  - DFS also works"
   ]
  },
  {
   "cell_type": "code",
   "execution_count": 6,
   "metadata": {},
   "outputs": [],
   "source": [
    "//% includes: full\n",
    "//% namespace: std\n",
    "//% main: no\n",
    "array<int, 10> ps;\n",
    "\n",
    "int root(int i) {\n",
    "    while (ps[i] != i) {\n",
    "        i = ps[i];\n",
    "    }\n",
    "    return i;\n",
    "}\n",
    "\n",
    "void Union(int i, int j) {\n",
    "    int rooti = root(i);\n",
    "    int rootj = root(j);\n",
    "    ps[rooti] = rootj;\n",
    "}\n",
    "\n",
    "int main() {\n",
    "    // init parent to itself\n",
    "    for (int i = 0; i < 10; i++) {\n",
    "        ps[i] = i;\n",
    "    }\n",
    "    return 0;\n",
    "}"
   ]
  },
  {
   "cell_type": "markdown",
   "metadata": {},
   "source": [
    "# Graph\n",
    "\n",
    "## DFS\n",
    "\n",
    "## BFS"
   ]
  },
  {
   "cell_type": "code",
   "execution_count": null,
   "metadata": {},
   "outputs": [],
   "source": []
  }
 ],
 "metadata": {
  "kernelspec": {
   "display_name": "c++-chun",
   "language": "c++",
   "name": "c"
  },
  "language_info": {
   "codemirror_mode": "c++",
   "file_extension": ".cc",
   "mimetype": "text/x-c++src",
   "name": "c++"
  }
 },
 "nbformat": 4,
 "nbformat_minor": 2
}
